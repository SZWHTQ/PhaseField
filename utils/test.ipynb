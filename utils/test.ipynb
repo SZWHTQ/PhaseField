{
 "cells": [
  {
   "cell_type": "code",
   "execution_count": 1,
   "metadata": {},
   "outputs": [
    {
     "name": "stdout",
     "output_type": "stream",
     "text": [
      "(68501.40618722378, 41984.732824427476)\n"
     ]
    }
   ],
   "source": [
    "# For default Johnson-Cook material model\n",
    "E = 1.1e5  # 1.1e8\n",
    "nu = 0.31  # 0.3\n",
    "\n",
    "\n",
    "def getLameParameters(E, nu):\n",
    "    lam = E * nu / ((1 + nu) * (1 - 2 * nu))\n",
    "    mu = E / (2 * (1 + nu))\n",
    "    return lam, mu\n",
    "\n",
    "\n",
    "print(getLameParameters(E, nu))"
   ]
  },
  {
   "cell_type": "code",
   "execution_count": 2,
   "metadata": {},
   "outputs": [
    {
     "name": "stdout",
     "output_type": "stream",
     "text": [
      "array contains nan, idx =  (array([3]),)\n"
     ]
    }
   ],
   "source": [
    "import numpy as np\n",
    "\n",
    "array = np.linspace(0, 1, 10)\n",
    "array[3] = -np.nan\n",
    "# print(f\"{np.any(np.isnan(array))=}\")\n",
    "if np.any(np.isnan(array)):\n",
    "    indice = np.where(np.isnan(array))\n",
    "    print(\"array contains nan, idx = \", indice)"
   ]
  },
  {
   "cell_type": "code",
   "execution_count": 3,
   "metadata": {},
   "outputs": [
    {
     "name": "stdout",
     "output_type": "stream",
     "text": [
      "Data 1\n",
      "Data 2\n"
     ]
    }
   ],
   "source": [
    "class Data:\n",
    "    def __init__(self, i):\n",
    "        self.i = i\n",
    "\n",
    "    def __str__(self) -> str:\n",
    "        return f\"Data {self.i}\"\n",
    "\n",
    "\n",
    "d = Data(1)\n",
    "\n",
    "\n",
    "def test_data():\n",
    "    d = Data(2)\n",
    "    print(d)\n",
    "\n",
    "\n",
    "print(d)\n",
    "test_data()"
   ]
  },
  {
   "cell_type": "code",
   "execution_count": 4,
   "metadata": {},
   "outputs": [
    {
     "name": "stdout",
     "output_type": "stream",
     "text": [
      "[[100   2   3]\n",
      " [  1   2   3]\n",
      " [  1   2   3]]\n"
     ]
    }
   ],
   "source": [
    "import numpy as np\n",
    "\n",
    "array = np.array([1, 2, 3])\n",
    "Array = np.array(\n",
    "    [\n",
    "        array,\n",
    "    ]\n",
    "    * 3\n",
    ")\n",
    "\n",
    "Array[0][0] = 100\n",
    "\n",
    "print(Array)"
   ]
  },
  {
   "cell_type": "code",
   "execution_count": 5,
   "metadata": {},
   "outputs": [
    {
     "name": "stdout",
     "output_type": "stream",
     "text": [
      "5\n",
      "2\n",
      "[0.11111111 0.55555556 1.         1.44444444 1.88888889]\n",
      "[0.11111111 0.33333333 0.55555556 0.77777778 1.        ]\n",
      "[0.         0.11111111]\n",
      "[0.22222222 0.33333333]\n",
      "[0.44444444 0.55555556]\n",
      "[0.66666667 0.77777778]\n",
      "[0.88888889 1.        ]\n"
     ]
    }
   ],
   "source": [
    "long_array = np.linspace(0, 1, 10)\n",
    "\n",
    "long_array_reshaped = np.reshape(long_array, (-1, 2))\n",
    "print(len(long_array_reshaped))\n",
    "print(long_array_reshaped.shape[1])\n",
    "print(np.sum(long_array_reshaped, axis=1))\n",
    "print(np.max(long_array_reshaped, axis=1))\n",
    "for e in long_array_reshaped:\n",
    "    print(e)"
   ]
  },
  {
   "cell_type": "code",
   "execution_count": 6,
   "metadata": {},
   "outputs": [
    {
     "name": "stdout",
     "output_type": "stream",
     "text": [
      "eigvals=array([-0.23606798,  4.23606798])\n",
      "eigvecs=array([[-0.85065081, -0.52573111],\n",
      "       [ 0.52573111, -0.85065081]])\n",
      "eigvecs.T=array([[-0.85065081,  0.52573111],\n",
      "       [-0.52573111, -0.85065081]])\n",
      "0: eigval = -0.2360679774997898, eigvec = [-0.85065081  0.52573111]\n",
      "1: eigval = 4.23606797749979, eigvec = [-0.52573111 -0.85065081]\n"
     ]
    }
   ],
   "source": [
    "A = np.array([[1, 2], [2, 3]])\n",
    "# eigs = np.linalg.eigvals(A)\n",
    "# print(eigs)\n",
    "# # print(np.linalg.eig(A))\n",
    "eigvals, eigvecs = np.linalg.eig(A)\n",
    "print(f\"{eigvals=}\")\n",
    "print(f\"{eigvecs=}\")\n",
    "print(f\"{eigvecs.T=}\")\n",
    "for i in range(len(eigvals)):\n",
    "    print(f\"{i}: eigval = {eigvals[i]}, eigvec = {eigvecs[:, i]}\")"
   ]
  },
  {
   "cell_type": "code",
   "execution_count": 7,
   "metadata": {},
   "outputs": [
    {
     "name": "stdout",
     "output_type": "stream",
     "text": [
      "[[[ 1.  2.]\n",
      "  [ 3.  4.]]\n",
      "\n",
      " [[ 5.  6.]\n",
      "  [ 7.  8.]]\n",
      "\n",
      " [[ 9. 10.]\n",
      "  [11. 12.]]]\n",
      "[ 1.  2.  3.  4.  5.  6.  7.  8.  9. 10. 11. 12.]\n",
      "[ 1.  2.  3.  4.  5.  6.  7.  8.  9. 10. 11. 12.]\n"
     ]
    }
   ],
   "source": [
    "# M = np.array((3,2))\n",
    "M = np.zeros((3, 2, 2))\n",
    "V = np.zeros(12)\n",
    "# M = np.append(M, np.array([[1, 2], [3, 4]]))\n",
    "M[0] = np.array([[1, 2], [3, 4]])\n",
    "M[1] = np.array([[5, 6], [7, 8]])\n",
    "M[2] = np.array([[9, 10], [11, 12]])\n",
    "print(M)\n",
    "print(M.flatten())\n",
    "V[:] = M.flatten()\n",
    "print(V)"
   ]
  },
  {
   "cell_type": "code",
   "execution_count": 8,
   "metadata": {},
   "outputs": [
    {
     "name": "stdout",
     "output_type": "stream",
     "text": [
      "[0.         0.11111111 0.22222222 0.33333333 0.44444444 0.55555556\n",
      " 0.66666667 0.77777778 0.88888889 1.        ]\n",
      "[1.         1.11111111 1.22222222 1.33333333 1.44444444 1.55555556\n",
      " 1.66666667 1.77777778 1.88888889 2.        ]\n",
      "0.0\n",
      "0.12345679012345678\n",
      "0.2716049382716049\n",
      "0.4444444444444444\n",
      "0.6419753086419753\n",
      "0.8641975308641976\n",
      "1.111111111111111\n",
      "1.3827160493827158\n",
      "1.6790123456790123\n",
      "2.0\n",
      "[0.         0.12345679 0.27160494 0.44444444 0.64197531 0.86419753\n",
      " 1.11111111 1.38271605 1.67901235 2.        ]\n"
     ]
    }
   ],
   "source": [
    "a1 = np.linspace(0, 1, 10)\n",
    "a2 = np.linspace(1, 2, 10)\n",
    "print(a1)\n",
    "print(a2)\n",
    "for i in range(len(a1)):\n",
    "    print(a1[i] * a2[i])\n",
    "print(a1 * a2)\n"
   ]
  },
  {
   "cell_type": "code",
   "execution_count": null,
   "metadata": {},
   "outputs": [
    {
     "name": "stdout",
     "output_type": "stream",
     "text": [
      "Info    : Meshing 1D...\n",
      "Info    : [  0%] Meshing curve 1 (Line)\n",
      "Info    : [ 10%] Meshing curve 2 (Line)\n",
      "Info    : [ 20%] Meshing curve 3 (Line)\n",
      "Info    : [ 30%] Meshing curve 4 (Line)\n",
      "Info    : [ 40%] Meshing curve 5 (Line)\n",
      "Info    : [ 50%] Meshing curve 6 (Circle)\n",
      "Info    : [ 60%] Meshing curve 7 (Line)\n",
      "Info    : [ 70%] Meshing curve 8 (Circle)\n",
      "Info    : [ 80%] Meshing curve 9 (Circle)\n",
      "Info    : [ 90%] Meshing curve 10 (Line)\n",
      "Info    : [100%] Meshing curve 11 (Circle)\n",
      "Info    : Done meshing 1D (Wall 0.000699195s, CPU 0.002471s)\n",
      "Info    : Meshing 2D...\n",
      "Info    : Meshing surface 1 (Plane, Frontal-Delaunay for Quads)\n",
      "Info    : Simple recombination completed (Wall 0.345964s, CPU 0.343816s): 19310 quads, 754 triangles, 0 invalid quads, 0 quads with Q < 0.1, avg Q = 0.943962, min Q = 0.203026\n",
      "Info    : Simple recombination completed (Wall 0.53621s, CPU 0.532315s): 79502 quads, 0 triangles, 0 invalid quads, 0 quads with Q < 0.1, avg Q = 0.947192, min Q = 0.459988\n",
      "Info    : Done meshing 2D (Wall 1.36424s, CPU 1.54861s)\n",
      "Info    : 80395 nodes 81130 elements\n",
      "Info    : Removing duplicate mesh nodes...\n",
      "Info    : Found 169 duplicate nodes \n",
      "Info    : Removed 169 duplicate mesh nodes\n",
      "Info    : Done removing duplicate mesh nodes\n",
      "Info    : Optimizing mesh (Netgen)...\n",
      "Info    : Done optimizing mesh (Wall 1.59402e-06s, CPU 3e-06s)\n",
      "Info    : Meshing 1D...\n",
      "Info    : [  0%] Meshing curve 1 (Line)\n",
      "Info    : [ 10%] Meshing curve 2 (Line)\n",
      "Info    : [ 10%] Meshing curve 3 (Line)\n",
      "Info    : [ 20%] Meshing curve 4 (Line)\n",
      "Info    : [ 20%] Meshing curve 5 (Line)\n",
      "Info    : [ 20%] Meshing curve 6 (Circle)\n",
      "Info    : [ 30%] Meshing curve 7 (Line)\n",
      "Info    : [ 30%] Meshing curve 8 (Circle)\n",
      "Info    : [ 30%] Meshing curve 9 (Circle)\n",
      "Info    : [ 40%] Meshing curve 10 (Line)\n",
      "Info    : [ 40%] Meshing curve 11 (Circle)\n",
      "Info    : [ 50%] Meshing curve 12 (Extruded)\n",
      "Info    : [ 50%] Meshing curve 13 (Extruded)\n",
      "Info    : [ 50%] Meshing curve 14 (Extruded)\n",
      "Info    : [ 60%] Meshing curve 15 (Extruded)\n",
      "Info    : [ 60%] Meshing curve 16 (Extruded)\n",
      "Info    : [ 60%] Meshing curve 17 (Extruded)\n",
      "Info    : [ 70%] Meshing curve 18 (Extruded)\n",
      "Info    : [ 70%] Meshing curve 19 (Extruded)\n",
      "Info    : [ 80%] Meshing curve 20 (Extruded)\n",
      "Info    : [ 80%] Meshing curve 21 (Extruded)\n",
      "Info    : [ 80%] Meshing curve 22 (Extruded)\n",
      "Info    : [ 90%] Meshing curve 23 (Extruded)\n",
      "Info    : [ 90%] Meshing curve 24 (Extruded)\n",
      "Info    : [ 90%] Meshing curve 25 (Extruded)\n",
      "Info    : [100%] Meshing curve 26 (Extruded)\n",
      "Info    : [100%] Meshing curve 27 (Extruded)\n",
      "Info    : Done meshing 1D (Wall 0.00628854s, CPU 0.006294s)\n",
      "Info    : Meshing 2D...\n",
      "Info    : [  0%] Meshing surface 1 (Plane, Frontal-Delaunay for Quads)\n",
      "Info    : [  0%] Simple recombination completed (Wall 0.396148s, CPU 0.39256s): 19310 quads, 754 triangles, 0 invalid quads, 0 quads with Q < 0.1, avg Q = 0.943962, min Q = 0.203026\n",
      "Info    : [  0%] Simple recombination completed (Wall 0.60366s, CPU 0.600997s): 79502 quads, 0 triangles, 0 invalid quads, 0 quads with Q < 0.1, avg Q = 0.947192, min Q = 0.459988\n",
      "Info    : [ 20%] Meshing surface 2 (Extruded)\n",
      "Info    : [ 30%] Meshing surface 3 (Extruded)\n",
      "Info    : [ 40%] Meshing surface 4 (Extruded)\n",
      "Info    : [ 50%] Meshing surface 5 (Extruded)\n",
      "Info    : [ 60%] Meshing surface 6 (Extruded)\n",
      "Info    : [ 70%] Meshing surface 7 (Extruded)\n",
      "Info    : [ 80%] Meshing surface 8 (Extruded)\n",
      "Info    : [ 90%] Meshing surface 9 (Extruded)\n",
      "Info    : [100%] Meshing surface 10 (Extruded)\n",
      "Info    : Done meshing 2D (Wall 1.6469s, CPU 1.63891s)\n",
      "Info    : Meshing 3D...\n",
      "Info    : Meshing volume 1 (Extruded)\n",
      "Info    : Done meshing 3D (Wall 0.58622s, CPU 0.565017s)\n",
      "Info    : Optimizing mesh...\n",
      "Info    : Done optimizing mesh (Wall 0.00279431s, CPU 0.002s)\n",
      "Info    : 160621 nodes 243046 elements\n",
      "Info    : Writing 'mesh.inp'...\n",
      "Info    : Done writing 'mesh.inp'\n",
      "Info    : Writing 'mesh.msh'...\n",
      "Info    : Done writing 'mesh.msh'\n"
     ]
    }
   ],
   "source": [
    "import gmsh\n",
    "\n",
    "principle_direction = 10\n",
    "h = 4\n",
    "mesh_x = 400\n",
    "crack_length = 4\n",
    "thickness = 1\n",
    "\n",
    "gmsh.initialize()\n",
    "# Define the geometry\n",
    "h_e = principle_direction / mesh_x\n",
    "# crack_length_factor = crack_length / length\n",
    "width = h_e * 0.5\n",
    "max_element_size = h_e\n",
    "min_element_size = h_e\n",
    "gmsh.model.occ.addPoint(-principle_direction / 2, -h / 2, 0, max_element_size, 1)\n",
    "gmsh.model.occ.addPoint(principle_direction / 2, -h / 2, 0, max_element_size, 2)\n",
    "gmsh.model.occ.addPoint(principle_direction / 2, h / 2, 0, max_element_size, 3)\n",
    "gmsh.model.occ.addPoint(-principle_direction / 2, h / 2, 0, max_element_size, 4)\n",
    "\n",
    "gmsh.model.occ.addPoint(-crack_length / 2, width / 2, 0, min_element_size, 5)\n",
    "gmsh.model.occ.addPoint(crack_length / 2, width / 2, 0, min_element_size, 6)\n",
    "gmsh.model.occ.addPoint(crack_length / 2, -width / 2, 0, min_element_size, 7)\n",
    "gmsh.model.occ.addPoint(-crack_length / 2, -width / 2, 0, min_element_size, 8)\n",
    "\n",
    "gmsh.model.occ.addLine(1, 2, 1)\n",
    "gmsh.model.occ.addLine(2, 3, 2)\n",
    "gmsh.model.occ.addLine(3, 4, 3)\n",
    "gmsh.model.occ.addLine(4, 1, 4)\n",
    "\n",
    "gmsh.model.occ.addLine(5, 6, 5)\n",
    "# gmsh.model.occ.addLine(6, 7, 6)\n",
    "gmsh.model.occ.addCircle(\n",
    "    crack_length / 2,\n",
    "    0,\n",
    "    0,\n",
    "    r=width / 2,\n",
    "    tag=6,\n",
    "    angle1=-np.pi / 2,\n",
    "    angle2=np.pi / 2,\n",
    ")\n",
    "gmsh.model.occ.addLine(7, 8, 7)\n",
    "# gmsh.model.occ.addLine(8, 5, 8)\n",
    "gmsh.model.occ.addCircle(\n",
    "    -crack_length / 2,\n",
    "    0,\n",
    "    0,\n",
    "    r=width / 2,\n",
    "    tag=8,\n",
    "    angle1=np.pi / 2,\n",
    "    angle2=-np.pi / 2,\n",
    ")\n",
    "\n",
    "gmsh.model.occ.addCurveLoop([1, 2, 3, 4], 1)\n",
    "gmsh.model.occ.addCurveLoop([5, 6, 7, 8], 2)\n",
    "\n",
    "gmsh.model.occ.addPlaneSurface([1, 2], 1)\n",
    "gmsh.model.occ.synchronize()\n",
    "\n",
    "gmsh.model.addPhysicalGroup(2, [1], 1, \"Plane\")\n",
    "\n",
    "# Configure the meshing algorithm\n",
    "gmsh.option.setNumber(\"Mesh.RecombinationAlgorithm\", 2)\n",
    "gmsh.option.setNumber(\"Mesh.RecombineAll\", 1)\n",
    "gmsh.option.setNumber(\"Mesh.Algorithm\", 8)\n",
    "\n",
    "gmsh.model.mesh.generate(2)\n",
    "gmsh.model.mesh.removeDuplicateNodes()\n",
    "\n",
    "gmsh.model.mesh.optimize(\"Netgen\")\n",
    "\n",
    "gmsh.model.occ.extrude([(2, 1)], 0, 0, thickness, [1], recombine=True)\n",
    "gmsh.model.occ.synchronize()\n",
    "\n",
    "gmsh.model.addPhysicalGroup(3, [1], 1, \"Model\")\n",
    "\n",
    "gmsh.model.mesh.generate(3)\n",
    "\n",
    "# gmsh.write(\"mesh.inp\")\n",
    "# gmsh.write(\"mesh.msh\")\n",
    "\n",
    "# gmsh.fltk.run()\n",
    "\n",
    "gmsh.finalize()\n"
   ]
  },
  {
   "cell_type": "code",
   "execution_count": 17,
   "metadata": {},
   "outputs": [
    {
     "name": "stdout",
     "output_type": "stream",
     "text": [
      "[False False  True]\n",
      "False\n"
     ]
    }
   ],
   "source": [
    "a = np.less(2, [1, 2, 3])\n",
    "print(a)\n",
    "print(np.all(a))"
   ]
  },
  {
   "cell_type": "code",
   "execution_count": null,
   "metadata": {},
   "outputs": [
    {
     "data": {
      "text/plain": [
       "array([3.74165739, 8.77496439])"
      ]
     },
     "execution_count": 23,
     "metadata": {},
     "output_type": "execute_result"
    }
   ],
   "source": [
    "np.linalg.norm([[1, 2, 3], [4, 5, 6]], axis=1)"
   ]
  },
  {
   "cell_type": "code",
   "execution_count": null,
   "metadata": {},
   "outputs": [
    {
     "data": {
      "text/plain": [
       "array([[0.  , 0.  , 0.36],\n",
       "       [0.16, 0.25, 0.36]])"
      ]
     },
     "execution_count": 13,
     "metadata": {},
     "output_type": "execute_result"
    }
   ],
   "source": [
    "import numpy as np\n",
    "\n",
    "a = np.array([0.2, 0.1])\n",
    "\n",
    "(\n",
    "    (np.array([[1, 2, 3], [4, 5, 6]]) > 2).astype(float)\n",
    "    * np.array([[1, 2, 3], [4, 5, 6]])\n",
    "    * a[:, None]\n",
    ") ** 2\n"
   ]
  },
  {
   "cell_type": "code",
   "execution_count": 22,
   "metadata": {},
   "outputs": [
    {
     "name": "stdout",
     "output_type": "stream",
     "text": [
      "[[2. 0.]\n",
      " [0. 2.]]\n",
      "[[ 1. -1.]\n",
      " [ 1.  1.]]\n",
      "[[2 0]\n",
      " [0 2]]\n"
     ]
    }
   ],
   "source": [
    "A = np.array([[1, -1], [1, 1]])\n",
    "print(np.einsum(\"ij,jk,lk->il\", A, np.eye(2), A))\n",
    "print(np.matmul(A, np.eye(2)))\n",
    "print(np.matmul(A, A.T))"
   ]
  },
  {
   "cell_type": "code",
   "execution_count": 3,
   "metadata": {},
   "outputs": [
    {
     "name": "stdout",
     "output_type": "stream",
     "text": [
      "1\n"
     ]
    }
   ],
   "source": [
    "import dataclasses\n",
    "\n",
    "\n",
    "@dataclasses.dataclass\n",
    "class Material:\n",
    "    rho: float\n",
    "    lame: float\n",
    "    mu: float\n",
    "\n",
    "\n",
    "@dataclasses.dataclass\n",
    "class JohnsonCook(Material):\n",
    "    initial_yield_stress: float\n",
    "    strength_coefficient: float\n",
    "    strain_rate_strength_coefficient: float\n",
    "    hardening_exponent: float\n",
    "    temperature_exponent: float\n",
    "    reference_strain_rate: float\n",
    "    reference_temperature: float\n",
    "    melting_temperature: float\n",
    "\n",
    "\n",
    "jc1 = JohnsonCook(\n",
    "    rho=7800,\n",
    "    lame=110000,\n",
    "    mu=1,\n",
    "    initial_yield_stress=500,\n",
    "    strength_coefficient=600,\n",
    "    strain_rate_strength_coefficient=0.01,\n",
    "    hardening_exponent=0.1,\n",
    "    temperature_exponent=0.02,\n",
    "    reference_strain_rate=1.0,\n",
    "    reference_temperature=300,\n",
    "    melting_temperature=1500,\n",
    ")\n",
    "print(jc1.mu)"
   ]
  },
  {
   "cell_type": "code",
   "execution_count": null,
   "metadata": {},
   "outputs": [
    {
     "name": "stdout",
     "output_type": "stream",
     "text": [
      "np.linalg.norm(A, axis=0)=array([5.09901951, 6.32455532, 7.61577311, 8.94427191])\n",
      "np.linalg.norm(A, axis=1)=array([ 5.47722558, 13.19090596])\n",
      "np.linalg.norm(A)=np.float64(14.2828568570857)\n"
     ]
    }
   ],
   "source": [
    "import numpy as np\n",
    "\n",
    "A = np.array([[1, 2, 3, 4], [5, 6, 7, 8]])\n",
    "print(f\"{np.linalg.norm(A, axis=0)=}\")\n",
    "print(f\"{np.linalg.norm(A, axis=1)=}\")\n",
    "print(f\"{np.linalg.norm(A)=}\")"
   ]
  },
  {
   "cell_type": "code",
   "execution_count": 1,
   "metadata": {},
   "outputs": [
    {
     "data": {
      "text/plain": [
       "np.float64(0.018)"
      ]
     },
     "execution_count": 1,
     "metadata": {},
     "output_type": "execute_result"
    }
   ],
   "source": [
    "import numpy as np\n",
    "A = np.linspace(0, 9e-3, 4)\n",
    "np.sum(A)\n"
   ]
  },
  {
   "cell_type": "code",
   "execution_count": 11,
   "metadata": {},
   "outputs": [
    {
     "name": "stdout",
     "output_type": "stream",
     "text": [
      "[0.23452079 0.33166248 0.40620192 0.46904158 0.52440442 0.57445626\n",
      " 0.62048368 0.66332496 0.70356236 0.74161985 0.77781746 0.81240384\n",
      " 0.84557673 0.87749644 0.90829511 0.93808315 0.96695398 0.99498744\n",
      " 1.02225242 1.04880885]\n"
     ]
    }
   ],
   "source": [
    "import numpy as np\n",
    "increment_num = 20\n",
    "load_steps = np.linspace(0, 1.1, increment_num + 1)[1:] ** 0.5\n",
    "print(load_steps)"
   ]
  },
  {
   "cell_type": "code",
   "execution_count": 48,
   "metadata": {},
   "outputs": [
    {
     "name": "stdout",
     "output_type": "stream",
     "text": [
      "load_steps[n]=8.000e-06\n",
      "getLoad(8.00e-06)=3.1048e-05\n"
     ]
    }
   ],
   "source": [
    "import numpy as np\n",
    "\n",
    "u_limit = 0.4\n",
    "end_time = 4e-4\n",
    "\n",
    "increment_num = 1000\n",
    "delta_t = end_time / increment_num\n",
    "load_steps = np.arange(delta_t, end_time + delta_t / 2, delta_t)\n",
    "\n",
    "n = 20\n",
    "n -= 1\n",
    "\n",
    "print(f\"{load_steps[n]=:.3e}\")\n",
    "\n",
    "\n",
    "def getLoad(t):\n",
    "    def smooth(xi):\n",
    "        return xi**3 * (10 - 15 * xi + 6 * xi * xi)\n",
    "\n",
    "    return u_limit * smooth(t / end_time)\n",
    "\n",
    "\n",
    "print(f\"getLoad({load_steps[n]:.2e})={getLoad(load_steps[n]):.4e}\")\n",
    "\n",
    "# total = 0\n",
    "# for i in range(n):\n",
    "#     total += getLoad(load_steps[i])\n",
    "# print(f\"{total=:.3e}\")"
   ]
  },
  {
   "cell_type": "code",
   "execution_count": 5,
   "metadata": {},
   "outputs": [
    {
     "name": "stdout",
     "output_type": "stream",
     "text": [
      "[8.00e-06 1.60e-05 2.40e-05 3.20e-05 4.00e-05 4.80e-05 5.60e-05 6.40e-05\n",
      " 7.20e-05 8.00e-05 8.80e-05 9.60e-05 1.04e-04 1.12e-04 1.20e-04 1.28e-04\n",
      " 1.36e-04 1.44e-04 1.52e-04 1.60e-04 1.68e-04 1.76e-04 1.84e-04 1.92e-04\n",
      " 2.00e-04]\n"
     ]
    }
   ],
   "source": [
    "import numpy as np\n",
    "\n",
    "u_limit = 0.4\n",
    "end_time = 4e-4\n",
    "\n",
    "increment_num = 50\n",
    "delta_t = end_time / increment_num\n",
    "load_steps = np.arange(delta_t, end_time + delta_t / 2, delta_t)[0 : int(increment_num / 2)]\n",
    "print(load_steps)\n"
   ]
  },
  {
   "cell_type": "code",
   "execution_count": null,
   "metadata": {},
   "outputs": [
    {
     "name": "stdout",
     "output_type": "stream",
     "text": [
      "[[1. 2.]\n",
      " [3. 4.]\n",
      " [5. 6.]\n",
      " [7. 8.]]\n",
      "\n",
      "[[[1. 0.]\n",
      "  [0. 1.]]\n",
      "\n",
      " [[1. 0.]\n",
      "  [0. 1.]]\n",
      "\n",
      " [[1. 0.]\n",
      "  [0. 1.]]\n",
      "\n",
      " [[1. 0.]\n",
      "  [0. 1.]]]\n"
     ]
    }
   ],
   "source": [
    "import numpy as np\n",
    "\n",
    "A = np.array([[1, 2], [3, 4], [5, 6], [7, 8]], dtype=np.float64)\n",
    "\n",
    "# Create the block matrix\n",
    "M = np.zeros((A.shape[0], 2, 2))\n",
    "M[:, 0, 0] = A[:, 0]\n",
    "M[:, 1, 1] = A[:, 1]\n",
    "\n",
    "principle_direction, principle_strain = np.linalg.eig(M)\n",
    "\n",
    "print(principle_direction)\n",
    "print()\n",
    "print(principle_strain)\n",
    "\n"
   ]
  },
  {
   "cell_type": "code",
   "execution_count": 5,
   "metadata": {},
   "outputs": [
    {
     "name": "stdout",
     "output_type": "stream",
     "text": [
      "time.struct_time(tm_year=2024, tm_mon=12, tm_mday=8, tm_hour=13, tm_min=23, tm_sec=2, tm_wday=6, tm_yday=343, tm_isdst=0)\n",
      "[2024-12-08 13:23:02]\n"
     ]
    }
   ],
   "source": [
    "import time\n",
    "\n",
    "# print(time.struct_time([]))\n",
    "print(time.localtime())\n",
    "\n",
    "date_time = time.localtime()\n",
    "# Print time like the log\n",
    "print(time.strftime(\"[%Y-%m-%d %H:%M:%S]\", date_time))"
   ]
  },
  {
   "cell_type": "code",
   "execution_count": null,
   "metadata": {},
   "outputs": [
    {
     "name": "stdout",
     "output_type": "stream",
     "text": [
      "principle_strain = \n",
      "[ 0.03927621 -0.00709243  0.0171373 ]\n",
      "\n",
      "principle_direction = \n",
      "[[ 0.82002045 -0.57233422  0.        ]\n",
      " [ 0.57233422  0.82002045  0.        ]\n",
      " [ 0.          0.          1.        ]]\n",
      "\n",
      "principle_stress = \n",
      "[6467.47135292 2677.20676161 4666.69802001]\n",
      "\n",
      "stress = \n",
      "[[5225.90782205 1778.86882252    0.        ]\n",
      " [1778.86882252 3918.77029249    0.        ]\n",
      " [   0.            0.         4666.69802001]]\n",
      "\n",
      "deviatoric_stress = \n",
      "[[ 622.1157772  1778.86882252    0.        ]\n",
      " [1778.86882252 -685.02175236    0.        ]\n",
      " [   0.            0.           62.90597517]]\n",
      "\n",
      "equivalent_stress = \n",
      "3283.8213818580048\n"
     ]
    }
   ],
   "source": [
    "import numpy as np\n",
    "\n",
    "lame = 68501.40618722378\n",
    "mu = 41984.732824427476\n",
    "\n",
    "d = 0.0157834\n",
    "E = np.array(\n",
    "    [[0.0240874, 0.021762, 0.0], [0.021762, 0.00809638, 0.0], [0.0, 0.0, 0.0171373]]\n",
    ")\n",
    "\n",
    "principle_strain, principle_direction = np.linalg.eig(E)\n",
    "\n",
    "# sorted_idx = np.argsort(principle_strain)[-1::-1]\n",
    "# principle_strain = principle_strain[sorted_idx]\n",
    "# principle_direction =  principle_direction[sorted_idx, :]\n",
    "\n",
    "print(\"principle_strain = \")\n",
    "print(principle_strain)\n",
    "print(\"\\nprinciple_direction = \")\n",
    "print(principle_direction)\n",
    "\n",
    "\n",
    "tr = np.sum(principle_strain)\n",
    "tr_factor = (tr > 0).astype(float)\n",
    "factor = (principle_strain > 0).astype(float)\n",
    "principle_stress = (\n",
    "    2 * mu * principle_strain * (1 - factor * d) ** 2\n",
    "    + lame * tr * (1 - tr_factor * d) ** 2\n",
    ")\n",
    "print(\"\\nprinciple_stress = \")\n",
    "print(principle_stress)\n",
    "\n",
    "stress = np.einsum(\n",
    "    \"ij,jk,lk->il\", principle_direction, np.diag(principle_stress), principle_direction\n",
    ")\n",
    "print(\"\\nstress = \")\n",
    "print(stress)\n",
    "\n",
    "deviatoric_stress = stress - np.sum(np.diag(stress)) / 3 * np.eye(3)\n",
    "print(\"\\ndeviatoric_stress = \")\n",
    "print(deviatoric_stress)\n",
    "\n",
    "equivalent_stress = np.sqrt(1.5 * np.sum(deviatoric_stress**2))\n",
    "print(\"\\nequivalent_stress = \")\n",
    "print(equivalent_stress)"
   ]
  },
  {
   "cell_type": "code",
   "execution_count": 4,
   "metadata": {},
   "outputs": [
    {
     "name": "stdout",
     "output_type": "stream",
     "text": [
      "[[[0. 0.]\n",
      "  [0. 0.]]\n",
      "\n",
      " [[0. 0.]\n",
      "  [0. 0.]]\n",
      "\n",
      " [[0. 0.]\n",
      "  [0. 0.]]]\n",
      "[[[1. 0.]\n",
      "  [0. 0.]]\n",
      "\n",
      " [[5. 0.]\n",
      "  [0. 0.]]\n",
      "\n",
      " [[9. 0.]\n",
      "  [0. 0.]]]\n"
     ]
    }
   ],
   "source": [
    "import numpy as np\n",
    "\n",
    "data = np.array([1, 2, 3, 4, 5, 6, 7, 8, 9, 10, 11, 12])\n",
    "\n",
    "M = np.zeros((3, 2, 2))\n",
    "print(M)\n",
    "M[:,0,0] = data[0::4]\n",
    "\n",
    "print(M)"
   ]
  }
 ],
 "metadata": {
  "kernelspec": {
   "display_name": "FEniCSx",
   "language": "python",
   "name": "python3"
  },
  "language_info": {
   "codemirror_mode": {
    "name": "ipython",
    "version": 3
   },
   "file_extension": ".py",
   "mimetype": "text/x-python",
   "name": "python",
   "nbconvert_exporter": "python",
   "pygments_lexer": "ipython3",
   "version": "3.12.7"
  }
 },
 "nbformat": 4,
 "nbformat_minor": 2
}
