{
 "cells": [
  {
   "cell_type": "code",
   "execution_count": 1,
   "metadata": {},
   "outputs": [
    {
     "name": "stdout",
     "output_type": "stream",
     "text": [
      "(68501.40618722378, 41984.732824427476)\n"
     ]
    }
   ],
   "source": [
    "# For default Johnson-Cook material model\n",
    "E = 110000  # 1.1e8\n",
    "nu = 0.31  # 0.3\n",
    "\n",
    "\n",
    "def getLameParameters(E, nu):\n",
    "    lam = E * nu / ((1 + nu) * (1 - 2 * nu))\n",
    "    mu = E / (2 * (1 + nu))\n",
    "    return lam, mu\n",
    "\n",
    "\n",
    "print(getLameParameters(E, nu))"
   ]
  },
  {
   "cell_type": "code",
   "execution_count": 2,
   "metadata": {},
   "outputs": [
    {
     "name": "stdout",
     "output_type": "stream",
     "text": [
      "array contains nan, idx =  (array([3]),)\n"
     ]
    }
   ],
   "source": [
    "import numpy as np\n",
    "\n",
    "array = np.linspace(0, 1, 10)\n",
    "array[3] = -np.nan\n",
    "# print(f\"{np.any(np.isnan(array))=}\")\n",
    "if np.any(np.isnan(array)):\n",
    "    indice = np.where(np.isnan(array))\n",
    "    print(\"array contains nan, idx = \", indice)"
   ]
  },
  {
   "cell_type": "code",
   "execution_count": 3,
   "metadata": {},
   "outputs": [
    {
     "name": "stdout",
     "output_type": "stream",
     "text": [
      "Data 1\n",
      "Data 2\n"
     ]
    }
   ],
   "source": [
    "class Data:\n",
    "    def __init__(self, i):\n",
    "        self.i = i\n",
    "\n",
    "    def __str__(self) -> str:\n",
    "        return f\"Data {self.i}\"\n",
    "\n",
    "\n",
    "d = Data(1)\n",
    "\n",
    "\n",
    "def test_data():\n",
    "    d = Data(2)\n",
    "    print(d)\n",
    "\n",
    "\n",
    "print(d)\n",
    "test_data()"
   ]
  },
  {
   "cell_type": "code",
   "execution_count": 4,
   "metadata": {},
   "outputs": [
    {
     "name": "stdout",
     "output_type": "stream",
     "text": [
      "[[100   2   3]\n",
      " [  1   2   3]\n",
      " [  1   2   3]]\n"
     ]
    }
   ],
   "source": [
    "import numpy as np\n",
    "\n",
    "array = np.array([1, 2, 3])\n",
    "Array = np.array(\n",
    "    [\n",
    "        array,\n",
    "    ]\n",
    "    * 3\n",
    ")\n",
    "\n",
    "Array[0][0] = 100\n",
    "\n",
    "print(Array)"
   ]
  },
  {
   "cell_type": "code",
   "execution_count": 5,
   "metadata": {},
   "outputs": [
    {
     "name": "stdout",
     "output_type": "stream",
     "text": [
      "5\n",
      "2\n",
      "[0.11111111 0.55555556 1.         1.44444444 1.88888889]\n",
      "[0.11111111 0.33333333 0.55555556 0.77777778 1.        ]\n",
      "[0.         0.11111111]\n",
      "[0.22222222 0.33333333]\n",
      "[0.44444444 0.55555556]\n",
      "[0.66666667 0.77777778]\n",
      "[0.88888889 1.        ]\n"
     ]
    }
   ],
   "source": [
    "long_array = np.linspace(0, 1, 10)\n",
    "\n",
    "long_array_reshaped = np.reshape(long_array, (-1, 2))\n",
    "print(len(long_array_reshaped))\n",
    "print(long_array_reshaped.shape[1])\n",
    "print(np.sum(long_array_reshaped, axis=1))\n",
    "print(np.max(long_array_reshaped, axis=1))\n",
    "for e in long_array_reshaped:\n",
    "    print(e)"
   ]
  },
  {
   "cell_type": "code",
   "execution_count": 6,
   "metadata": {},
   "outputs": [
    {
     "name": "stdout",
     "output_type": "stream",
     "text": [
      "eigvals=array([-0.23606798,  4.23606798])\n",
      "eigvecs=array([[-0.85065081, -0.52573111],\n",
      "       [ 0.52573111, -0.85065081]])\n",
      "eigvecs.T=array([[-0.85065081,  0.52573111],\n",
      "       [-0.52573111, -0.85065081]])\n",
      "0: eigval = -0.2360679774997898, eigvec = [-0.85065081  0.52573111]\n",
      "1: eigval = 4.23606797749979, eigvec = [-0.52573111 -0.85065081]\n"
     ]
    }
   ],
   "source": [
    "A = np.array([[1, 2], [2, 3]])\n",
    "# eigs = np.linalg.eigvals(A)\n",
    "# print(eigs)\n",
    "# # print(np.linalg.eig(A))\n",
    "eigvals, eigvecs = np.linalg.eig(A)\n",
    "print(f\"{eigvals=}\")\n",
    "print(f\"{eigvecs=}\")\n",
    "print(f\"{eigvecs.T=}\")\n",
    "for i in range(len(eigvals)):\n",
    "    print(f\"{i}: eigval = {eigvals[i]}, eigvec = {eigvecs[:, i]}\")"
   ]
  },
  {
   "cell_type": "code",
   "execution_count": 7,
   "metadata": {},
   "outputs": [
    {
     "name": "stdout",
     "output_type": "stream",
     "text": [
      "[[[ 1.  2.]\n",
      "  [ 3.  4.]]\n",
      "\n",
      " [[ 5.  6.]\n",
      "  [ 7.  8.]]\n",
      "\n",
      " [[ 9. 10.]\n",
      "  [11. 12.]]]\n",
      "[ 1.  2.  3.  4.  5.  6.  7.  8.  9. 10. 11. 12.]\n",
      "[ 1.  2.  3.  4.  5.  6.  7.  8.  9. 10. 11. 12.]\n"
     ]
    }
   ],
   "source": [
    "# M = np.array((3,2))\n",
    "M = np.zeros((3, 2, 2))\n",
    "V = np.zeros(12)\n",
    "# M = np.append(M, np.array([[1, 2], [3, 4]]))\n",
    "M[0] = np.array([[1, 2], [3, 4]])\n",
    "M[1] = np.array([[5, 6], [7, 8]])\n",
    "M[2] = np.array([[9, 10], [11, 12]])\n",
    "print(M)\n",
    "print(M.flatten())\n",
    "V[:] = M.flatten()\n",
    "print(V)"
   ]
  },
  {
   "cell_type": "code",
   "execution_count": 8,
   "metadata": {},
   "outputs": [
    {
     "name": "stdout",
     "output_type": "stream",
     "text": [
      "[0.         0.11111111 0.22222222 0.33333333 0.44444444 0.55555556\n",
      " 0.66666667 0.77777778 0.88888889 1.        ]\n",
      "[1.         1.11111111 1.22222222 1.33333333 1.44444444 1.55555556\n",
      " 1.66666667 1.77777778 1.88888889 2.        ]\n",
      "0.0\n",
      "0.12345679012345678\n",
      "0.2716049382716049\n",
      "0.4444444444444444\n",
      "0.6419753086419753\n",
      "0.8641975308641976\n",
      "1.111111111111111\n",
      "1.3827160493827158\n",
      "1.6790123456790123\n",
      "2.0\n",
      "[0.         0.12345679 0.27160494 0.44444444 0.64197531 0.86419753\n",
      " 1.11111111 1.38271605 1.67901235 2.        ]\n"
     ]
    }
   ],
   "source": [
    "a1 = np.linspace(0, 1, 10)\n",
    "a2 = np.linspace(1, 2, 10)\n",
    "print(a1)\n",
    "print(a2)\n",
    "for i in range(len(a1)):\n",
    "    print(a1[i] * a2[i])\n",
    "print(a1 * a2)\n"
   ]
  },
  {
   "cell_type": "code",
   "execution_count": null,
   "metadata": {},
   "outputs": [
    {
     "name": "stdout",
     "output_type": "stream",
     "text": [
      "Info    : Meshing 1D...\n",
      "Info    : [  0%] Meshing curve 1 (Line)\n",
      "Info    : [ 10%] Meshing curve 2 (Line)\n",
      "Info    : [ 20%] Meshing curve 3 (Line)\n",
      "Info    : [ 30%] Meshing curve 4 (Line)\n",
      "Info    : [ 40%] Meshing curve 5 (Line)\n",
      "Info    : [ 50%] Meshing curve 6 (Circle)\n",
      "Info    : [ 60%] Meshing curve 7 (Line)\n",
      "Info    : [ 70%] Meshing curve 8 (Circle)\n",
      "Info    : [ 80%] Meshing curve 9 (Circle)\n",
      "Info    : [ 90%] Meshing curve 10 (Line)\n",
      "Info    : [100%] Meshing curve 11 (Circle)\n",
      "Info    : Done meshing 1D (Wall 0.000699195s, CPU 0.002471s)\n",
      "Info    : Meshing 2D...\n",
      "Info    : Meshing surface 1 (Plane, Frontal-Delaunay for Quads)\n",
      "Info    : Simple recombination completed (Wall 0.345964s, CPU 0.343816s): 19310 quads, 754 triangles, 0 invalid quads, 0 quads with Q < 0.1, avg Q = 0.943962, min Q = 0.203026\n",
      "Info    : Simple recombination completed (Wall 0.53621s, CPU 0.532315s): 79502 quads, 0 triangles, 0 invalid quads, 0 quads with Q < 0.1, avg Q = 0.947192, min Q = 0.459988\n",
      "Info    : Done meshing 2D (Wall 1.36424s, CPU 1.54861s)\n",
      "Info    : 80395 nodes 81130 elements\n",
      "Info    : Removing duplicate mesh nodes...\n",
      "Info    : Found 169 duplicate nodes \n",
      "Info    : Removed 169 duplicate mesh nodes\n",
      "Info    : Done removing duplicate mesh nodes\n",
      "Info    : Optimizing mesh (Netgen)...\n",
      "Info    : Done optimizing mesh (Wall 1.59402e-06s, CPU 3e-06s)\n",
      "Info    : Meshing 1D...\n",
      "Info    : [  0%] Meshing curve 1 (Line)\n",
      "Info    : [ 10%] Meshing curve 2 (Line)\n",
      "Info    : [ 10%] Meshing curve 3 (Line)\n",
      "Info    : [ 20%] Meshing curve 4 (Line)\n",
      "Info    : [ 20%] Meshing curve 5 (Line)\n",
      "Info    : [ 20%] Meshing curve 6 (Circle)\n",
      "Info    : [ 30%] Meshing curve 7 (Line)\n",
      "Info    : [ 30%] Meshing curve 8 (Circle)\n",
      "Info    : [ 30%] Meshing curve 9 (Circle)\n",
      "Info    : [ 40%] Meshing curve 10 (Line)\n",
      "Info    : [ 40%] Meshing curve 11 (Circle)\n",
      "Info    : [ 50%] Meshing curve 12 (Extruded)\n",
      "Info    : [ 50%] Meshing curve 13 (Extruded)\n",
      "Info    : [ 50%] Meshing curve 14 (Extruded)\n",
      "Info    : [ 60%] Meshing curve 15 (Extruded)\n",
      "Info    : [ 60%] Meshing curve 16 (Extruded)\n",
      "Info    : [ 60%] Meshing curve 17 (Extruded)\n",
      "Info    : [ 70%] Meshing curve 18 (Extruded)\n",
      "Info    : [ 70%] Meshing curve 19 (Extruded)\n",
      "Info    : [ 80%] Meshing curve 20 (Extruded)\n",
      "Info    : [ 80%] Meshing curve 21 (Extruded)\n",
      "Info    : [ 80%] Meshing curve 22 (Extruded)\n",
      "Info    : [ 90%] Meshing curve 23 (Extruded)\n",
      "Info    : [ 90%] Meshing curve 24 (Extruded)\n",
      "Info    : [ 90%] Meshing curve 25 (Extruded)\n",
      "Info    : [100%] Meshing curve 26 (Extruded)\n",
      "Info    : [100%] Meshing curve 27 (Extruded)\n",
      "Info    : Done meshing 1D (Wall 0.00628854s, CPU 0.006294s)\n",
      "Info    : Meshing 2D...\n",
      "Info    : [  0%] Meshing surface 1 (Plane, Frontal-Delaunay for Quads)\n",
      "Info    : [  0%] Simple recombination completed (Wall 0.396148s, CPU 0.39256s): 19310 quads, 754 triangles, 0 invalid quads, 0 quads with Q < 0.1, avg Q = 0.943962, min Q = 0.203026\n",
      "Info    : [  0%] Simple recombination completed (Wall 0.60366s, CPU 0.600997s): 79502 quads, 0 triangles, 0 invalid quads, 0 quads with Q < 0.1, avg Q = 0.947192, min Q = 0.459988\n",
      "Info    : [ 20%] Meshing surface 2 (Extruded)\n",
      "Info    : [ 30%] Meshing surface 3 (Extruded)\n",
      "Info    : [ 40%] Meshing surface 4 (Extruded)\n",
      "Info    : [ 50%] Meshing surface 5 (Extruded)\n",
      "Info    : [ 60%] Meshing surface 6 (Extruded)\n",
      "Info    : [ 70%] Meshing surface 7 (Extruded)\n",
      "Info    : [ 80%] Meshing surface 8 (Extruded)\n",
      "Info    : [ 90%] Meshing surface 9 (Extruded)\n",
      "Info    : [100%] Meshing surface 10 (Extruded)\n",
      "Info    : Done meshing 2D (Wall 1.6469s, CPU 1.63891s)\n",
      "Info    : Meshing 3D...\n",
      "Info    : Meshing volume 1 (Extruded)\n",
      "Info    : Done meshing 3D (Wall 0.58622s, CPU 0.565017s)\n",
      "Info    : Optimizing mesh...\n",
      "Info    : Done optimizing mesh (Wall 0.00279431s, CPU 0.002s)\n",
      "Info    : 160621 nodes 243046 elements\n",
      "Info    : Writing 'mesh.inp'...\n",
      "Info    : Done writing 'mesh.inp'\n",
      "Info    : Writing 'mesh.msh'...\n",
      "Info    : Done writing 'mesh.msh'\n"
     ]
    }
   ],
   "source": [
    "import gmsh\n",
    "\n",
    "w = 10\n",
    "h = 4\n",
    "mesh_x = 400\n",
    "crack_length = 4\n",
    "thickness = 1\n",
    "\n",
    "gmsh.initialize()\n",
    "# Define the geometry\n",
    "h_e = w / mesh_x\n",
    "# crack_length_factor = crack_length / length\n",
    "width = h_e * 0.5\n",
    "max_element_size = h_e\n",
    "min_element_size = h_e\n",
    "gmsh.model.occ.addPoint(-w / 2, -h / 2, 0, max_element_size, 1)\n",
    "gmsh.model.occ.addPoint(w / 2, -h / 2, 0, max_element_size, 2)\n",
    "gmsh.model.occ.addPoint(w / 2, h / 2, 0, max_element_size, 3)\n",
    "gmsh.model.occ.addPoint(-w / 2, h / 2, 0, max_element_size, 4)\n",
    "\n",
    "gmsh.model.occ.addPoint(-crack_length / 2, width / 2, 0, min_element_size, 5)\n",
    "gmsh.model.occ.addPoint(crack_length / 2, width / 2, 0, min_element_size, 6)\n",
    "gmsh.model.occ.addPoint(crack_length / 2, -width / 2, 0, min_element_size, 7)\n",
    "gmsh.model.occ.addPoint(-crack_length / 2, -width / 2, 0, min_element_size, 8)\n",
    "\n",
    "gmsh.model.occ.addLine(1, 2, 1)\n",
    "gmsh.model.occ.addLine(2, 3, 2)\n",
    "gmsh.model.occ.addLine(3, 4, 3)\n",
    "gmsh.model.occ.addLine(4, 1, 4)\n",
    "\n",
    "gmsh.model.occ.addLine(5, 6, 5)\n",
    "# gmsh.model.occ.addLine(6, 7, 6)\n",
    "gmsh.model.occ.addCircle(\n",
    "    crack_length / 2,\n",
    "    0,\n",
    "    0,\n",
    "    r=width / 2,\n",
    "    tag=6,\n",
    "    angle1=-np.pi / 2,\n",
    "    angle2=np.pi / 2,\n",
    ")\n",
    "gmsh.model.occ.addLine(7, 8, 7)\n",
    "# gmsh.model.occ.addLine(8, 5, 8)\n",
    "gmsh.model.occ.addCircle(\n",
    "    -crack_length / 2,\n",
    "    0,\n",
    "    0,\n",
    "    r=width / 2,\n",
    "    tag=8,\n",
    "    angle1=np.pi / 2,\n",
    "    angle2=-np.pi / 2,\n",
    ")\n",
    "\n",
    "gmsh.model.occ.addCurveLoop([1, 2, 3, 4], 1)\n",
    "gmsh.model.occ.addCurveLoop([5, 6, 7, 8], 2)\n",
    "\n",
    "gmsh.model.occ.addPlaneSurface([1, 2], 1)\n",
    "gmsh.model.occ.synchronize()\n",
    "\n",
    "gmsh.model.addPhysicalGroup(2, [1], 1, \"Plane\")\n",
    "\n",
    "# Configure the meshing algorithm\n",
    "gmsh.option.setNumber(\"Mesh.RecombinationAlgorithm\", 2)\n",
    "gmsh.option.setNumber(\"Mesh.RecombineAll\", 1)\n",
    "gmsh.option.setNumber(\"Mesh.Algorithm\", 8)\n",
    "\n",
    "gmsh.model.mesh.generate(2)\n",
    "gmsh.model.mesh.removeDuplicateNodes()\n",
    "\n",
    "gmsh.model.mesh.optimize(\"Netgen\")\n",
    "\n",
    "gmsh.model.occ.extrude([(2, 1)], 0, 0, thickness, [1], recombine=True)\n",
    "gmsh.model.occ.synchronize()\n",
    "\n",
    "gmsh.model.addPhysicalGroup(3, [1], 1, \"Model\")\n",
    "\n",
    "gmsh.model.mesh.generate(3)\n",
    "\n",
    "# gmsh.write(\"mesh.inp\")\n",
    "# gmsh.write(\"mesh.msh\")\n",
    "\n",
    "# gmsh.fltk.run()\n",
    "\n",
    "gmsh.finalize()\n"
   ]
  },
  {
   "cell_type": "code",
   "execution_count": 17,
   "metadata": {},
   "outputs": [
    {
     "name": "stdout",
     "output_type": "stream",
     "text": [
      "[False False  True]\n",
      "False\n"
     ]
    }
   ],
   "source": [
    "a = np.less(2, [1, 2, 3])\n",
    "print(a)\n",
    "print(np.all(a))"
   ]
  },
  {
   "cell_type": "code",
   "execution_count": null,
   "metadata": {},
   "outputs": [
    {
     "data": {
      "text/plain": [
       "array([3.74165739, 8.77496439])"
      ]
     },
     "execution_count": 23,
     "metadata": {},
     "output_type": "execute_result"
    }
   ],
   "source": [
    "np.linalg.norm([[1, 2, 3], [4, 5, 6]], axis=1)"
   ]
  },
  {
   "cell_type": "code",
   "execution_count": null,
   "metadata": {},
   "outputs": [
    {
     "data": {
      "text/plain": [
       "array([[0.  , 0.  , 0.36],\n",
       "       [0.16, 0.25, 0.36]])"
      ]
     },
     "execution_count": 13,
     "metadata": {},
     "output_type": "execute_result"
    }
   ],
   "source": [
    "import numpy as np\n",
    "\n",
    "a = np.array([0.2, 0.1])\n",
    "\n",
    "(\n",
    "    (np.array([[1, 2, 3], [4, 5, 6]]) > 2).astype(float)\n",
    "    * np.array([[1, 2, 3], [4, 5, 6]])\n",
    "    * a[:, None]\n",
    ") ** 2\n"
   ]
  },
  {
   "cell_type": "code",
   "execution_count": 22,
   "metadata": {},
   "outputs": [
    {
     "name": "stdout",
     "output_type": "stream",
     "text": [
      "[[2. 0.]\n",
      " [0. 2.]]\n",
      "[[ 1. -1.]\n",
      " [ 1.  1.]]\n",
      "[[2 0]\n",
      " [0 2]]\n"
     ]
    }
   ],
   "source": [
    "A = np.array([[1, -1], [1, 1]])\n",
    "print(np.einsum(\"ij,jk,lk->il\", A, np.eye(2), A))\n",
    "print(np.matmul(A, np.eye(2)))\n",
    "print(np.matmul(A, A.T))"
   ]
  },
  {
   "cell_type": "code",
   "execution_count": 3,
   "metadata": {},
   "outputs": [
    {
     "name": "stdout",
     "output_type": "stream",
     "text": [
      "1\n"
     ]
    }
   ],
   "source": [
    "import dataclasses\n",
    "\n",
    "\n",
    "@dataclasses.dataclass\n",
    "class Material:\n",
    "    rho: float\n",
    "    lame: float\n",
    "    mu: float\n",
    "\n",
    "\n",
    "@dataclasses.dataclass\n",
    "class JohnsonCook(Material):\n",
    "    initial_yield_stress: float\n",
    "    strength_coefficient: float\n",
    "    strain_rate_strength_coefficient: float\n",
    "    hardening_exponent: float\n",
    "    temperature_exponent: float\n",
    "    reference_strain_rate: float\n",
    "    reference_temperature: float\n",
    "    melting_temperature: float\n",
    "\n",
    "\n",
    "jc1 = JohnsonCook(\n",
    "    rho=7800,\n",
    "    lame=110000,\n",
    "    mu=1,\n",
    "    initial_yield_stress=500,\n",
    "    strength_coefficient=600,\n",
    "    strain_rate_strength_coefficient=0.01,\n",
    "    hardening_exponent=0.1,\n",
    "    temperature_exponent=0.02,\n",
    "    reference_strain_rate=1.0,\n",
    "    reference_temperature=300,\n",
    "    melting_temperature=1500,\n",
    ")\n",
    "print(jc1.mu)"
   ]
  },
  {
   "cell_type": "code",
   "execution_count": null,
   "metadata": {},
   "outputs": [
    {
     "name": "stdout",
     "output_type": "stream",
     "text": [
      "np.linalg.norm(A, axis=0)=array([5.09901951, 6.32455532, 7.61577311, 8.94427191])\n",
      "np.linalg.norm(A, axis=1)=array([ 5.47722558, 13.19090596])\n",
      "np.linalg.norm(A)=np.float64(14.2828568570857)\n"
     ]
    }
   ],
   "source": [
    "import numpy as np\n",
    "\n",
    "A = np.array([[1, 2, 3, 4], [5, 6, 7, 8]])\n",
    "print(f\"{np.linalg.norm(A, axis=0)=}\")\n",
    "print(f\"{np.linalg.norm(A, axis=1)=}\")\n",
    "print(f\"{np.linalg.norm(A)=}\")"
   ]
  },
  {
   "cell_type": "code",
   "execution_count": 1,
   "metadata": {},
   "outputs": [
    {
     "data": {
      "text/plain": [
       "np.float64(0.018)"
      ]
     },
     "execution_count": 1,
     "metadata": {},
     "output_type": "execute_result"
    }
   ],
   "source": [
    "import numpy as np\n",
    "A = np.linspace(0, 9e-3, 4)\n",
    "np.sum(A)\n"
   ]
  }
 ],
 "metadata": {
  "kernelspec": {
   "display_name": "FEniCSx",
   "language": "python",
   "name": "python3"
  },
  "language_info": {
   "codemirror_mode": {
    "name": "ipython",
    "version": 3
   },
   "file_extension": ".py",
   "mimetype": "text/x-python",
   "name": "python",
   "nbconvert_exporter": "python",
   "pygments_lexer": "ipython3",
   "version": "3.12.7"
  }
 },
 "nbformat": 4,
 "nbformat_minor": 2
}
